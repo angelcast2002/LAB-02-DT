{
 "cells": [
  {
   "cell_type": "markdown",
   "metadata": {},
   "source": [
    "# Red Neuronal Profunda (DNN) para clasificación MNIST\n",
    "\n",
    "Aplicaremos todos nuestros conocimientos para crear una DNN, frecuentemente llamada también una Artificial Neural Network (ANN).  El problema que vamos a trabajar se conoce como el \"Hola Mundo\" del aprendizaje profundo porque para la mayoría de estudiantes este es el primer algoritmo de aprendizaje profundo que ven. \n",
    "\n",
    "El conjunto de datos se llama MNIST y se refiere al reconocimiento de dígitos escritos a mano.  Pueden encontrar más información en el sitio web de Yann LeCun (Director of AI Research, Facebook).  El es uno de los pioneros de todo este tema, así como de otras metodologías más complejas como las Redes Neurales Convolucionales (CNN) que se utilizan hoy día.\n",
    "\n",
    "El conjunto de datos tiene 70,000 imágenes (28x28 pixels) de dígitos escritos a mano (1 dígito por imagen).\n",
    "\n",
    "La meta es escribir un algoritmo que detecta qué dígito ha sido escrito.  Como solo hay 10 dígitos (0 al 9), este es un problema de clasificación con 10 clases.\n",
    "\n",
    "Nuestra meta será construir una RN con 2 capas escondidas."
   ]
  },
  {
   "cell_type": "markdown",
   "metadata": {},
   "source": [
    "## Importar los paquetes relevantes\n",
    "\n",
    "TensorFlow incluye un proveedor de datos de MNIST que utilizaremos acá.  Viene con el módulo **\"tensorflow.keras.datasets\"**. "
   ]
  },
  {
   "cell_type": "code",
   "execution_count": 72,
   "metadata": {
    "tags": []
   },
   "outputs": [],
   "source": [
    "import numpy as np\n",
    "import tensorflow as tf"
   ]
  },
  {
   "cell_type": "markdown",
   "metadata": {},
   "source": [
    "La siguiente instrucción, cuando se corre por primera vez, descarga el conjunto de datos en lo indicado por el parámetro path, relativo a  ~/.keras/datasets).  Como si se hubiera ejecutado Lo siguiente:\n",
    "\n",
    "tf.keras.datasets.mnist.load_data(\n",
    "    path='mnist.npz'\n",
    ")\n",
    "\n",
    "luego separa los datos en un conjunto para entrenamiento y otro para pruebas.\n",
    "\n",
    "Si se ejecuta más de una vez, ya no descarga el archivo."
   ]
  },
  {
   "cell_type": "code",
   "execution_count": 73,
   "metadata": {},
   "outputs": [],
   "source": [
    "(X_entreno, y_entreno), (X_prueba, y_prueba) = tf.keras.datasets.mnist.load_data()\n",
    "assert X_entreno.shape == (60000, 28, 28)\n",
    "assert X_prueba.shape == (10000, 28, 28)\n",
    "assert y_entreno.shape == (60000,)\n",
    "assert y_prueba.shape == (10000,)"
   ]
  },
  {
   "cell_type": "markdown",
   "metadata": {},
   "source": [
    "## Datos\n",
    "\n",
    "Esta sección es donde pre-procesaremos nuestros datos."
   ]
  },
  {
   "cell_type": "markdown",
   "metadata": {},
   "source": [
    "Por default, TF2 tiene conjuntos de datos de entrenamiento y de prueba, pero no tiene un conjunto de validación, por lo que debemos dividirlo por nuestra cuenta\n",
    "\n",
    "Lo haremos del mismo tamaño que el conjunto de prueba"
   ]
  },
  {
   "cell_type": "code",
   "execution_count": 74,
   "metadata": {},
   "outputs": [],
   "source": [
    "num_obs_validacion = y_prueba.shape[0]"
   ]
  },
  {
   "cell_type": "markdown",
   "metadata": {},
   "source": [
    "Usaremos una variable dedicada para el número de muestras de prueba"
   ]
  },
  {
   "cell_type": "code",
   "execution_count": 75,
   "metadata": {},
   "outputs": [],
   "source": [
    "num_obs_prueba = y_prueba.shape[0]"
   ]
  },
  {
   "cell_type": "markdown",
   "metadata": {},
   "source": [
    "Generalmente preferimos \"normalizar\" nuestros datos en alguna forma para que el resultado sea numéricamente más estable.  En este caso simplemente preferimos tener entradas entre 0 y 1, por lo que definimos una función, que reciba la imagen MNIST.\n",
    "\n",
    "Como los posibles valores de las entradas son entre 0 y 255 (256 posibles tonos de gris), al dividirlos por 255 obtenemos el resultado deseado."
   ]
  },
  {
   "cell_type": "code",
   "execution_count": 76,
   "metadata": {
    "tags": []
   },
   "outputs": [],
   "source": [
    "X_entreno_normalizado = X_entreno / 255"
   ]
  },
  {
   "cell_type": "markdown",
   "metadata": {},
   "source": [
    "Finalmente, normalizaremos y convertiremos los datos de pruebas en tandas.  Los normalizamos para que tengan la misma magnitud que los datos de entrenamiento y validación.\n",
    "\n",
    "No hay necesidad de \"barajearlo\" ya que no estaremos entrenando con los datos de prueba.  Habra una sola tanda, igual al tamaño de los datos de prueba."
   ]
  },
  {
   "cell_type": "code",
   "execution_count": 77,
   "metadata": {},
   "outputs": [],
   "source": [
    "X_prueba_normalizado = X_prueba / 255"
   ]
  },
  {
   "cell_type": "markdown",
   "metadata": {},
   "source": [
    "Una vez se han \"normalizado\" los datos, podemos proceder a extraer los datos de entrenamiento y de validación.\n",
    "\n",
    "Nuestros datos de validación serán 10000 para ser igual al conjunto de prueba.\n",
    "\n",
    "Finalmente, creamos una tanda con un tamaño de tanda igual al total de muestras de validación."
   ]
  },
  {
   "cell_type": "code",
   "execution_count": 78,
   "metadata": {},
   "outputs": [],
   "source": [
    "X_validacion = X_entreno_normalizado[-num_obs_validacion: , : , : ]\n",
    "y_validacion = y_entreno[-num_obs_validacion:]"
   ]
  },
  {
   "cell_type": "markdown",
   "metadata": {},
   "source": [
    "Similarmente, los datos de entrenamiento son todos los demás por lo que nos salteamos tantas observaciones como las hay en el conjunto de validación."
   ]
  },
  {
   "cell_type": "code",
   "execution_count": 79,
   "metadata": {},
   "outputs": [],
   "source": [
    "X_entreno = X_entreno_normalizado[ : X_entreno_normalizado.shape[0] - num_obs_validacion, : , : ]\n",
    "y_entreno = y_entreno[ : y_entreno.shape[0] - num_obs_validacion]\n",
    "num_obs_entreno = y_entreno.shape[0]"
   ]
  },
  {
   "cell_type": "markdown",
   "metadata": {},
   "source": [
    "Convertir de Arreglos Numpy a Tensores"
   ]
  },
  {
   "cell_type": "code",
   "execution_count": 80,
   "metadata": {},
   "outputs": [],
   "source": [
    "datos_entreno = tf.data.Dataset.from_tensor_slices((X_entreno, y_entreno))\n",
    "datos_validacion = tf.data.Dataset.from_tensor_slices((X_validacion, y_validacion))\n",
    "datos_prueba = tf.data.Dataset.from_tensor_slices((X_prueba, y_prueba))"
   ]
  },
  {
   "cell_type": "markdown",
   "metadata": {},
   "source": [
    "Barajear y hacer tandas con el conjunto de datos de entrenamiento"
   ]
  },
  {
   "cell_type": "code",
   "execution_count": 81,
   "metadata": {},
   "outputs": [],
   "source": [
    "TAMANIO_TANDA = 100\n",
    "datos_entreno = datos_entreno.shuffle(buffer_size = num_obs_entreno).batch(TAMANIO_TANDA)"
   ]
  },
  {
   "cell_type": "markdown",
   "metadata": {},
   "source": [
    "Hacer tandas con los conjunto de validación y prueba, no se necesita barajearlos"
   ]
  },
  {
   "cell_type": "code",
   "execution_count": 82,
   "metadata": {},
   "outputs": [],
   "source": [
    "datos_validacion = datos_validacion.batch(TAMANIO_TANDA)\n",
    "datos_prueba = datos_prueba.batch(TAMANIO_TANDA)"
   ]
  },
  {
   "cell_type": "markdown",
   "metadata": {},
   "source": [
    "## Modelo"
   ]
  },
  {
   "cell_type": "markdown",
   "metadata": {},
   "source": [
    "### Delineamos el modelo\n",
    "\n",
    "Cuando pensamos sobre un algoritmo de aprenzaje profundo, casi siempre solo lo imaginamos.  Asi que esta vez, hagámoslo.  :)"
   ]
  },
  {
   "cell_type": "code",
   "execution_count": 83,
   "metadata": {
    "tags": []
   },
   "outputs": [],
   "source": [
    "tamanio_entrada = 784\n",
    "tamanio_salida = 10"
   ]
  },
  {
   "cell_type": "markdown",
   "metadata": {},
   "source": [
    "Usaremos el mismo ancho para ambas capas escondidas.  No es una necesidad!"
   ]
  },
  {
   "cell_type": "code",
   "execution_count": 84,
   "metadata": {},
   "outputs": [],
   "source": [
    "tamanio_capa_escondida = 50\n",
    "# tamanio_capa_escondida = 200\n",
    "# tamanio_capa_escondida = 300\n"
   ]
  },
  {
   "cell_type": "markdown",
   "metadata": {},
   "source": [
    "# Definimos cómo se verá el modelo\n",
    "\n",
    "La primera capa (la de entrada):  cada observación es de 28x28 píxeles, por lo tanto es un tensor de rango 2.\n",
    "\n",
    "Como aún no hemos aprendido sobre CNNs, no sabemos como alimentar este tipo de entrada a nuestra red, por lo tanto hay que \"aplanar\" las imágenes.  Hay un método conveniente **Flatten** que toma nuestro tensor de 28x28 y lo convierte en  un vector (None), o (784,)...porque 28x28 = 784.  Esto nos permite crear una red de alimentación hacia adelante.\n",
    "\n",
    "    \n",
    "**tf.keras.layers.Dense** básicamente implementa:  output = activation(dot(entrada, peso) + sesgo).  Requiere varios argumentos, pero los más importantes para nosotros son el ancho de la capa escondida y la función de activación.\n",
    "\n",
    "La capa final no es diferente, solo nos aseguramos de activarla con **softmax**\n"
   ]
  },
  {
   "cell_type": "code",
   "execution_count": 85,
   "metadata": {},
   "outputs": [
    {
     "name": "stderr",
     "output_type": "stream",
     "text": [
      "c:\\Users\\Alejandro\\Documents\\GitHub\\LAB-02-DT\\lab02_ds\\Lib\\site-packages\\keras\\src\\layers\\reshaping\\flatten.py:37: UserWarning: Do not pass an `input_shape`/`input_dim` argument to a layer. When using Sequential models, prefer using an `Input(shape)` object as the first layer in the model instead.\n",
      "  super().__init__(**kwargs)\n"
     ]
    }
   ],
   "source": [
    "modelo = tf.keras.Sequential([\n",
    "\n",
    "    tf.keras.layers.Flatten(input_shape=(28, 28)), # capa entrada\n",
    "    \n",
    "    tf.keras.layers.Dense(tamanio_capa_escondida, activation='relu'), # 1era capa escondida\n",
    "    tf.keras.layers.Dense(tamanio_capa_escondida, activation='relu'), # 2nda capa escondida\n",
    "    # tf.keras.layers.Dense(tamanio_capa_escondida, activation='relu'), # 3era capa escondida\n",
    "    # tf.keras.layers.Dense(tamanio_capa_escondida, activation='relu'), # 4ta capa escondida\n",
    "    # tf.keras.layers.Dense(tamanio_capa_escondida, activation='relu'), # 5ta capa escondida\n",
    "    \n",
    "    # tf.keras.layers.Dense(tamanio_capa_escondida, activation='sigmoid'), # 1era capa escondida\n",
    "    # tf.keras.layers.Dense(tamanio_capa_escondida, activation='sigmoid'), # 2nda capa escondida\n",
    "\n",
    "    # tf.keras.layers.Dense(tamanio_capa_escondida, activation='relu'), # 1era capa escondida\n",
    "    # tf.keras.layers.Dense(tamanio_capa_escondida, activation='tanh'), # 2nda capa escondida\n",
    "    \n",
    "    tf.keras.layers.Dense(tamanio_salida, activation='softmax') # capa salida\n",
    "])"
   ]
  },
  {
   "cell_type": "markdown",
   "metadata": {},
   "source": [
    "### Seleccionar el optimizador y la función de pérdida"
   ]
  },
  {
   "cell_type": "markdown",
   "metadata": {
    "tags": []
   },
   "source": [
    "Definimos el optimizador que nos gustaría utilizar, la función de pérdida, y las métricas que nos interesa obtener en cada interacción"
   ]
  },
  {
   "cell_type": "code",
   "execution_count": 86,
   "metadata": {},
   "outputs": [],
   "source": [
    "modelo.compile(optimizer='adam', loss='sparse_categorical_crossentropy', metrics=['accuracy'])"
   ]
  },
  {
   "cell_type": "markdown",
   "metadata": {},
   "source": [
    "### Entrenamiento\n",
    "\n",
    "Acá es donde entrenamos el modelo que hemos construído\n",
    "\n",
    "Determinamos el número máximo de épocas.\n",
    "\n",
    "Ajustamos el modelo , especificando:\n",
    "\n",
    "* los datos de entrenamiento\n",
    "* el número total de épocas\n",
    "* y los datos de validación que creamos en el formato (entradas, metas)"
   ]
  },
  {
   "cell_type": "code",
   "execution_count": 87,
   "metadata": {},
   "outputs": [
    {
     "name": "stdout",
     "output_type": "stream",
     "text": [
      "Epoch 1/5\n",
      "500/500 - 2s - 4ms/step - accuracy: 0.8764 - loss: 0.4400 - val_accuracy: 0.9417 - val_loss: 0.2073\n",
      "Epoch 2/5\n",
      "500/500 - 1s - 2ms/step - accuracy: 0.9414 - loss: 0.1993 - val_accuracy: 0.9548 - val_loss: 0.1629\n",
      "Epoch 3/5\n",
      "500/500 - 1s - 2ms/step - accuracy: 0.9539 - loss: 0.1543 - val_accuracy: 0.9609 - val_loss: 0.1358\n",
      "Epoch 4/5\n",
      "500/500 - 1s - 3ms/step - accuracy: 0.9634 - loss: 0.1230 - val_accuracy: 0.9648 - val_loss: 0.1180\n",
      "Epoch 5/5\n",
      "500/500 - 2s - 3ms/step - accuracy: 0.9688 - loss: 0.1029 - val_accuracy: 0.9658 - val_loss: 0.1208\n"
     ]
    },
    {
     "data": {
      "text/plain": [
       "<keras.src.callbacks.history.History at 0x285e754cbf0>"
      ]
     },
     "execution_count": 87,
     "metadata": {},
     "output_type": "execute_result"
    }
   ],
   "source": [
    "NUMERO_EPOCAS = 5\n",
    "\n",
    "modelo.fit(datos_entreno,\n",
    "          epochs = NUMERO_EPOCAS, \n",
    "          validation_data = datos_validacion,\n",
    "          verbose = 2)"
   ]
  },
  {
   "cell_type": "markdown",
   "metadata": {},
   "source": [
    "## Probar el modelo\n",
    "\n",
    "Como se discutió en clase, luego del entrenamiento (con los datos de entrenamiento), y la validación (con los datos de validación), probamos el potencial de predicción final de nuestro modelo con el conjunto de datos de prueba que el algoritmo NUNCA ha visto antes.\n",
    "\n",
    "Es muy importante reconocer que estar \"jugando\" con los hiperparámetros sobre-ajusta el conjunto de datos de validación.\n",
    "\n",
    "La prueba es la instancia absolutamente final. Nunca debe probarse el modelo antes de haber completamente ajustado el modelo.\n",
    "\n",
    "Si se ajusta el modelo después de hacer la prueba, se empezará a sobre-ajustar el conjunto de datos de prueba, que echaría \"por los suelos\" el propósito original del mismo."
   ]
  },
  {
   "cell_type": "code",
   "execution_count": 88,
   "metadata": {},
   "outputs": [
    {
     "name": "stdout",
     "output_type": "stream",
     "text": [
      "\u001b[1m100/100\u001b[0m \u001b[32m━━━━━━━━━━━━━━━━━━━━\u001b[0m\u001b[37m\u001b[0m \u001b[1m0s\u001b[0m 2ms/step - accuracy: 0.9521 - loss: 25.5391\n"
     ]
    }
   ],
   "source": [
    "perdida_prueba, precision_entrenamiento = modelo.evaluate(datos_prueba)"
   ]
  },
  {
   "cell_type": "code",
   "execution_count": 89,
   "metadata": {},
   "outputs": [
    {
     "name": "stdout",
     "output_type": "stream",
     "text": [
      "Pérdida de prueba: 21.49. Precisión de prueba: 95.88%\n"
     ]
    }
   ],
   "source": [
    "# Si se desea, se puede aplicar un formateo \"bonito\"\n",
    "print('Pérdida de prueba: {0:.2f}. Precisión de prueba: {1:.2f}%'.format(perdida_prueba, precision_entrenamiento * 100.))"
   ]
  },
  {
   "cell_type": "markdown",
   "metadata": {},
   "source": [
    "Utilizando el modelo inicial y los hiperparámetros dados en este notebook, la precisión de prueba final debe ser aproximadamente 97%.\n",
    "\n",
    "Cada vez que se ejecuta el código, se obtiene una precisión diferente debido a la \"barajeada\" de las tandas, los pesos se inicializan en forma diferente, etc.\n",
    "\n",
    "Finalmente, intencionalmente se ha llegado a una solución subóptima, para que puedan tener la oportunidad de mejorarla como ejercicio de laboratorio."
   ]
  },
  {
   "cell_type": "markdown",
   "metadata": {},
   "source": [
    "# Encontrando el ancho ideal"
   ]
  },
  {
   "cell_type": "code",
   "execution_count": 90,
   "metadata": {},
   "outputs": [],
   "source": [
    "# # Lista de tamaños de capas escondidas para probar\n",
    "# tamanios_capa_escondida = [50, 100, 150, 200, 250, 300]\n",
    "\n",
    "# # Variable para guardar el mejor tamaño de capa escondida\n",
    "# mejor_tamanio = None\n",
    "# mejor_precision_validacion = 0\n",
    "\n",
    "# # Iterar sobre los diferentes tamaños de capa escondida\n",
    "# for tamanio in tamanios_capa_escondida:\n",
    "#     # Definir el modelo con el tamaño de capa escondida actual\n",
    "#     modelo = tf.keras.Sequential([\n",
    "#         tf.keras.layers.Flatten(input_shape=(28, 28)),\n",
    "#         tf.keras.layers.Dense(tamanio, activation='relu'),\n",
    "#         tf.keras.layers.Dense(tamanio, activation='relu'),\n",
    "#         tf.keras.layers.Dense(tamanio_salida, activation='softmax')\n",
    "#     ])\n",
    "\n",
    "#     # Compilar el modelo\n",
    "#     modelo.compile(optimizer='adam', loss='sparse_categorical_crossentropy', metrics=['accuracy'])\n",
    "\n",
    "#     # Entrenar el modelo\n",
    "#     historia = modelo.fit(datos_entreno, epochs=NUMERO_EPOCAS, validation_data=datos_validacion, verbose=0)\n",
    "\n",
    "#     # Obtener la precisión de validación final\n",
    "#     precision_validacion = historia.history['val_accuracy'][-1]\n",
    "\n",
    "#     # Imprimir la precisión de validación para este tamaño de capa escondida\n",
    "#     print(f'Tamaño de capa escondida: {tamanio}, Precisión de validación: {precision_validacion:.2f}%')\n",
    "\n",
    "#     # Verificar si este es el mejor tamaño de capa escondida encontrado hasta ahora\n",
    "#     if precision_validacion > mejor_precision_validacion:\n",
    "#         mejor_precision_validacion = precision_validacion\n",
    "#         mejor_tamanio = tamanio\n",
    "\n",
    "# print(f'\\nEl mejor tamaño de capa escondida es {mejor_tamanio} con una precisión de validación de {mejor_precision_validacion:.2f}%')\n"
   ]
  },
  {
   "cell_type": "markdown",
   "metadata": {},
   "source": [
    "# Probando diferentes tamaños de tanda\n",
    "\n",
    "Probamos con tamaños de tanda de 10,000 y de 1."
   ]
  },
  {
   "cell_type": "code",
   "execution_count": 91,
   "metadata": {},
   "outputs": [],
   "source": [
    "import pandas as pd\n",
    "import time"
   ]
  },
  {
   "cell_type": "markdown",
   "metadata": {},
   "source": [
    "*Esta celda tarda aprox. 6 min en ejecutarse..."
   ]
  },
  {
   "cell_type": "code",
   "execution_count": 92,
   "metadata": {},
   "outputs": [
    {
     "name": "stdout",
     "output_type": "stream",
     "text": [
      "Entrenando modelo con tamaño de tanda '10000'... Listo!\n",
      "\u001b[1m1/1\u001b[0m \u001b[32m━━━━━━━━━━━━━━━━━━━━\u001b[0m\u001b[37m\u001b[0m \u001b[1m0s\u001b[0m 150ms/step - accuracy: 0.7928 - loss: 38.4695\n",
      "Entrenando modelo con tamaño de tanda '1'... Listo!\n",
      "\u001b[1m10000/10000\u001b[0m \u001b[32m━━━━━━━━━━━━━━━━━━━━\u001b[0m\u001b[37m\u001b[0m \u001b[1m9s\u001b[0m 927us/step - accuracy: 0.9510 - loss: 61.4987\n"
     ]
    }
   ],
   "source": [
    "# Lista para guardar los resultados\n",
    "results = []\n",
    "\n",
    "# Lista de tamaños de tanda\n",
    "tamanios_tanda = [10000, 1]\n",
    "\n",
    "# Definir el modelo\n",
    "modelo = tf.keras.Sequential([\n",
    "    tf.keras.layers.Flatten(input_shape=(28, 28)),\n",
    "    tf.keras.layers.Dense(50, activation='relu'),\n",
    "    tf.keras.layers.Dense(50, activation='relu'),\n",
    "    tf.keras.layers.Dense(tamanio_salida, activation='softmax')\n",
    "])\n",
    "    \n",
    "# Compilar el modelo\n",
    "modelo.compile(optimizer='adam', loss='sparse_categorical_crossentropy', metrics=['accuracy'])\n",
    "    \n",
    "# Iterar sobre los diferentes tamaños de tanda\n",
    "for tamanio in tamanios_tanda:\n",
    "    # Reeestablecer los conjuntos de datos\n",
    "    datos_entreno = tf.data.Dataset.from_tensor_slices((X_entreno, y_entreno))\n",
    "    datos_validacion = tf.data.Dataset.from_tensor_slices((X_validacion, y_validacion))\n",
    "    datos_prueba = tf.data.Dataset.from_tensor_slices((X_prueba, y_prueba))\n",
    "    \n",
    "    # Dividir en tandas los conjuntos de datos\n",
    "    datos_entreno = datos_entreno.shuffle(buffer_size = num_obs_entreno).batch(tamanio)  # Barajear datos de entrenamiento\n",
    "    datos_validacion = datos_validacion.batch(tamanio)\n",
    "    datos_prueba = datos_prueba.batch(tamanio)\n",
    "    \n",
    "    # Entrenar el modelo con los datos divididos\n",
    "    print(f\"Entrenando modelo con tamaño de tanda '{tamanio}'...\", end=\" \")\n",
    "    start = time.time()\n",
    "    historia = modelo.fit(datos_entreno, epochs=NUMERO_EPOCAS, validation_data=datos_validacion, verbose=0)\n",
    "    end = time.time()\n",
    "    tiempo_entrenamiento = end - start\n",
    "    print(\"Listo!\")\n",
    "\n",
    "    # Obtener la pérdida\n",
    "    perdida_prueba, precision_prueba = modelo.evaluate(datos_prueba)\n",
    "\n",
    "    # Obtener la precisión de prueba final\n",
    "    precision_entrenamiento = historia.history['accuracy'][-1]\n",
    "\n",
    "    # Obtener la precisión de validación final\n",
    "    precision_validacion = historia.history['val_accuracy'][-1]\n",
    "\n",
    "    # Guardar los resultados\n",
    "    results.append({\n",
    "        \"Tamaño de tanda\": tamanio,\n",
    "        \"Precisión de entrenamiento\": \"{:.2f}%\".format(precision_entrenamiento * 100),\n",
    "        \"Precisión de prueba\": \"{:.2f}%\".format(precision_prueba * 100),\n",
    "        \"Precisión de validación\": \"{:.2f}%\".format(precision_validacion * 100),\n",
    "        \"Tiempo de entrenamiento (s)\": \"{:.2f}\".format(tiempo_entrenamiento)\n",
    "    })\n"
   ]
  },
  {
   "cell_type": "code",
   "execution_count": 93,
   "metadata": {},
   "outputs": [
    {
     "data": {
      "text/html": [
       "<div>\n",
       "<style scoped>\n",
       "    .dataframe tbody tr th:only-of-type {\n",
       "        vertical-align: middle;\n",
       "    }\n",
       "\n",
       "    .dataframe tbody tr th {\n",
       "        vertical-align: top;\n",
       "    }\n",
       "\n",
       "    .dataframe thead th {\n",
       "        text-align: right;\n",
       "    }\n",
       "</style>\n",
       "<table border=\"1\" class=\"dataframe\">\n",
       "  <thead>\n",
       "    <tr style=\"text-align: right;\">\n",
       "      <th></th>\n",
       "      <th>Tamaño de tanda</th>\n",
       "      <th>Precisión de entrenamiento</th>\n",
       "      <th>Precisión de prueba</th>\n",
       "      <th>Precisión de validación</th>\n",
       "      <th>Tiempo de entrenamiento (s)</th>\n",
       "    </tr>\n",
       "  </thead>\n",
       "  <tbody>\n",
       "    <tr>\n",
       "      <th>0</th>\n",
       "      <td>10000</td>\n",
       "      <td>74.10%</td>\n",
       "      <td>79.28%</td>\n",
       "      <td>80.69%</td>\n",
       "      <td>3.20</td>\n",
       "    </tr>\n",
       "    <tr>\n",
       "      <th>1</th>\n",
       "      <td>1</td>\n",
       "      <td>96.76%</td>\n",
       "      <td>95.89%</td>\n",
       "      <td>96.77%</td>\n",
       "      <td>336.49</td>\n",
       "    </tr>\n",
       "  </tbody>\n",
       "</table>\n",
       "</div>"
      ],
      "text/plain": [
       "   Tamaño de tanda Precisión de entrenamiento Precisión de prueba  \\\n",
       "0            10000                     74.10%              79.28%   \n",
       "1                1                     96.76%              95.89%   \n",
       "\n",
       "  Precisión de validación Tiempo de entrenamiento (s)  \n",
       "0                  80.69%                        3.20  \n",
       "1                  96.77%                      336.49  "
      ]
     },
     "execution_count": 93,
     "metadata": {},
     "output_type": "execute_result"
    }
   ],
   "source": [
    "# Mostrar resultados como dataframe\n",
    "df = pd.DataFrame(results)\n",
    "df"
   ]
  },
  {
   "cell_type": "markdown",
   "metadata": {},
   "source": [
    "# Probando diferentes tasas de apredizaje"
   ]
  },
  {
   "cell_type": "code",
   "execution_count": 94,
   "metadata": {},
   "outputs": [],
   "source": [
    "from tensorflow.keras.optimizers import Adam"
   ]
  },
  {
   "cell_type": "code",
   "execution_count": 95,
   "metadata": {},
   "outputs": [
    {
     "name": "stderr",
     "output_type": "stream",
     "text": [
      "c:\\Users\\Alejandro\\Documents\\GitHub\\LAB-02-DT\\lab02_ds\\Lib\\site-packages\\keras\\src\\layers\\reshaping\\flatten.py:37: UserWarning: Do not pass an `input_shape`/`input_dim` argument to a layer. When using Sequential models, prefer using an `Input(shape)` object as the first layer in the model instead.\n",
      "  super().__init__(**kwargs)\n"
     ]
    },
    {
     "name": "stdout",
     "output_type": "stream",
     "text": [
      "Entrenando modelo con tasa de apredizaje '0.0001'... Listo!\n",
      "\u001b[1m100/100\u001b[0m \u001b[32m━━━━━━━━━━━━━━━━━━━━\u001b[0m\u001b[37m\u001b[0m \u001b[1m0s\u001b[0m 2ms/step - accuracy: 0.9095 - loss: 38.3548\n",
      "Entrenando modelo con tasa de apredizaje '0.02'... Listo!\n",
      "\u001b[1m100/100\u001b[0m \u001b[32m━━━━━━━━━━━━━━━━━━━━\u001b[0m\u001b[37m\u001b[0m \u001b[1m0s\u001b[0m 2ms/step - accuracy: 0.9383 - loss: 43.6595\n"
     ]
    }
   ],
   "source": [
    "# Lista para guardar los resultados\n",
    "results = []\n",
    "\n",
    "# Lista de tasas de aprendizaje para probar\n",
    "tasas_aprendizaje = [0.0001, 0.02]\n",
    "\n",
    "# Definir el modelo\n",
    "modelo = tf.keras.Sequential([\n",
    "    tf.keras.layers.Flatten(input_shape=(28, 28)),\n",
    "    tf.keras.layers.Dense(50, activation='relu'),\n",
    "    tf.keras.layers.Dense(50, activation='relu'),\n",
    "    tf.keras.layers.Dense(tamanio_salida, activation='softmax')\n",
    "])\n",
    "    \n",
    "# Reeestablecer los conjuntos de datos\n",
    "datos_entreno = tf.data.Dataset.from_tensor_slices((X_entreno, y_entreno))\n",
    "datos_validacion = tf.data.Dataset.from_tensor_slices((X_validacion, y_validacion))\n",
    "datos_prueba = tf.data.Dataset.from_tensor_slices((X_prueba, y_prueba))\n",
    "\n",
    "# Dividir en tandas los conjuntos de datos con el tamaño original\n",
    "TAMANIO_TANDA = 100\n",
    "datos_entreno = datos_entreno.shuffle(buffer_size = num_obs_entreno).batch(TAMANIO_TANDA)  # Barajear datos de entrenamiento\n",
    "datos_validacion = datos_validacion.batch(TAMANIO_TANDA)\n",
    "datos_prueba = datos_prueba.batch(TAMANIO_TANDA)\n",
    "    \n",
    "# Iterar sobre las diferentes tasas de aprendizaje\n",
    "for tasa in tasas_aprendizaje:\n",
    "    # Crear el optimizador\n",
    "    optimizador = Adam(learning_rate=tasa)\n",
    "    \n",
    "    # Compilar el modelo con el optimizador\n",
    "    modelo.compile(optimizer=optimizador, loss='sparse_categorical_crossentropy', metrics=['accuracy'])\n",
    "    \n",
    "    # Entrenar el modelo con los datos divididos\n",
    "    print(f\"Entrenando modelo con tasa de apredizaje '{tasa}'...\", end=\" \")\n",
    "    start = time.time()\n",
    "    historia = modelo.fit(datos_entreno, epochs=NUMERO_EPOCAS, validation_data=datos_validacion, verbose=0)\n",
    "    end = time.time()\n",
    "    tiempo_entrenamiento = end - start\n",
    "    print(\"Listo!\")\n",
    "\n",
    "    # Obtener la pérdida\n",
    "    perdida_prueba, precision_prueba = modelo.evaluate(datos_prueba)\n",
    "\n",
    "    # Obtener la precisión de prueba final\n",
    "    precision_entrenamiento = historia.history['accuracy'][-1]\n",
    "\n",
    "    # Obtener la precisión de validación final\n",
    "    precision_validacion = historia.history['val_accuracy'][-1]\n",
    "\n",
    "    # Guardar los resultados\n",
    "    results.append({\n",
    "        \"Tasa de aprendizaje\": tasa,\n",
    "        \"Precisión de entrenamiento\": \"{:.2f}%\".format(precision_entrenamiento * 100),\n",
    "        \"Precisión de prueba\": \"{:.2f}%\".format(precision_prueba * 100),\n",
    "        \"Precisión de validación\": \"{:.2f}%\".format(precision_validacion * 100),\n",
    "        \"Tiempo de entrenamiento (s)\": \"{:.2f}\".format(tiempo_entrenamiento)\n",
    "    })\n"
   ]
  },
  {
   "cell_type": "code",
   "execution_count": 96,
   "metadata": {},
   "outputs": [
    {
     "data": {
      "text/html": [
       "<div>\n",
       "<style scoped>\n",
       "    .dataframe tbody tr th:only-of-type {\n",
       "        vertical-align: middle;\n",
       "    }\n",
       "\n",
       "    .dataframe tbody tr th {\n",
       "        vertical-align: top;\n",
       "    }\n",
       "\n",
       "    .dataframe thead th {\n",
       "        text-align: right;\n",
       "    }\n",
       "</style>\n",
       "<table border=\"1\" class=\"dataframe\">\n",
       "  <thead>\n",
       "    <tr style=\"text-align: right;\">\n",
       "      <th></th>\n",
       "      <th>Tasa de aprendizaje</th>\n",
       "      <th>Precisión de entrenamiento</th>\n",
       "      <th>Precisión de prueba</th>\n",
       "      <th>Precisión de validación</th>\n",
       "      <th>Tiempo de entrenamiento (s)</th>\n",
       "    </tr>\n",
       "  </thead>\n",
       "  <tbody>\n",
       "    <tr>\n",
       "      <th>0</th>\n",
       "      <td>0.0001</td>\n",
       "      <td>92.03%</td>\n",
       "      <td>92.31%</td>\n",
       "      <td>92.95%</td>\n",
       "      <td>6.75</td>\n",
       "    </tr>\n",
       "    <tr>\n",
       "      <th>1</th>\n",
       "      <td>0.0200</td>\n",
       "      <td>95.51%</td>\n",
       "      <td>94.58%</td>\n",
       "      <td>95.29%</td>\n",
       "      <td>8.08</td>\n",
       "    </tr>\n",
       "  </tbody>\n",
       "</table>\n",
       "</div>"
      ],
      "text/plain": [
       "   Tasa de aprendizaje Precisión de entrenamiento Precisión de prueba  \\\n",
       "0               0.0001                     92.03%              92.31%   \n",
       "1               0.0200                     95.51%              94.58%   \n",
       "\n",
       "  Precisión de validación Tiempo de entrenamiento (s)  \n",
       "0                  92.95%                        6.75  \n",
       "1                  95.29%                        8.08  "
      ]
     },
     "execution_count": 96,
     "metadata": {},
     "output_type": "execute_result"
    }
   ],
   "source": [
    "# Mostrar resultados como dataframe\n",
    "df = pd.DataFrame(results)\n",
    "df"
   ]
  },
  {
   "cell_type": "markdown",
   "metadata": {},
   "source": [
    "# Mejorando la precisión de validación\n",
    "Se modificarán los parámetros y la composición del modelo con el fin de obtener una precisión de validación mayor o igual a 98.5%."
   ]
  },
  {
   "cell_type": "code",
   "execution_count": 210,
   "metadata": {},
   "outputs": [],
   "source": [
    "# Establecer parámetros\n",
    "TAMANIO_TANDA = 600\n",
    "TAMANIO_CAPA_ESCONDIDA = 300\n",
    "TASA_APRENDIZAJE = 0.02\n",
    "NUMERO_EPOCAS = 10"
   ]
  },
  {
   "cell_type": "code",
   "execution_count": 211,
   "metadata": {},
   "outputs": [
    {
     "name": "stdout",
     "output_type": "stream",
     "text": [
      "Entrenando modelo...\n",
      "Epoch 1/10\n",
      "\u001b[1m84/84\u001b[0m \u001b[32m━━━━━━━━━━━━━━━━━━━━\u001b[0m\u001b[37m\u001b[0m \u001b[1m3s\u001b[0m 18ms/step - accuracy: 0.4576 - loss: 1.9719 - val_accuracy: 0.9460 - val_loss: 0.1937\n",
      "Epoch 2/10\n",
      "\u001b[1m84/84\u001b[0m \u001b[32m━━━━━━━━━━━━━━━━━━━━\u001b[0m\u001b[37m\u001b[0m \u001b[1m1s\u001b[0m 14ms/step - accuracy: 0.9480 - loss: 0.1722 - val_accuracy: 0.9626 - val_loss: 0.1235\n",
      "Epoch 3/10\n",
      "\u001b[1m84/84\u001b[0m \u001b[32m━━━━━━━━━━━━━━━━━━━━\u001b[0m\u001b[37m\u001b[0m \u001b[1m1s\u001b[0m 14ms/step - accuracy: 0.9721 - loss: 0.0945 - val_accuracy: 0.9683 - val_loss: 0.1055\n",
      "Epoch 4/10\n",
      "\u001b[1m84/84\u001b[0m \u001b[32m━━━━━━━━━━━━━━━━━━━━\u001b[0m\u001b[37m\u001b[0m \u001b[1m1s\u001b[0m 14ms/step - accuracy: 0.9790 - loss: 0.0685 - val_accuracy: 0.9675 - val_loss: 0.1028\n",
      "Epoch 5/10\n",
      "\u001b[1m84/84\u001b[0m \u001b[32m━━━━━━━━━━━━━━━━━━━━\u001b[0m\u001b[37m\u001b[0m \u001b[1m1s\u001b[0m 14ms/step - accuracy: 0.9820 - loss: 0.0575 - val_accuracy: 0.9700 - val_loss: 0.1003\n",
      "Epoch 6/10\n",
      "\u001b[1m84/84\u001b[0m \u001b[32m━━━━━━━━━━━━━━━━━━━━\u001b[0m\u001b[37m\u001b[0m \u001b[1m1s\u001b[0m 14ms/step - accuracy: 0.9870 - loss: 0.0427 - val_accuracy: 0.9726 - val_loss: 0.0939\n",
      "Epoch 7/10\n",
      "\u001b[1m84/84\u001b[0m \u001b[32m━━━━━━━━━━━━━━━━━━━━\u001b[0m\u001b[37m\u001b[0m \u001b[1m1s\u001b[0m 16ms/step - accuracy: 0.9895 - loss: 0.0325 - val_accuracy: 0.9754 - val_loss: 0.0887\n",
      "Epoch 8/10\n",
      "\u001b[1m84/84\u001b[0m \u001b[32m━━━━━━━━━━━━━━━━━━━━\u001b[0m\u001b[37m\u001b[0m \u001b[1m1s\u001b[0m 14ms/step - accuracy: 0.9935 - loss: 0.0222 - val_accuracy: 0.9751 - val_loss: 0.0899\n",
      "Epoch 9/10\n",
      "\u001b[1m84/84\u001b[0m \u001b[32m━━━━━━━━━━━━━━━━━━━━\u001b[0m\u001b[37m\u001b[0m \u001b[1m2s\u001b[0m 20ms/step - accuracy: 0.9931 - loss: 0.0224 - val_accuracy: 0.9736 - val_loss: 0.0971\n",
      "Epoch 10/10\n",
      "\u001b[1m84/84\u001b[0m \u001b[32m━━━━━━━━━━━━━━━━━━━━\u001b[0m\u001b[37m\u001b[0m \u001b[1m1s\u001b[0m 16ms/step - accuracy: 0.9920 - loss: 0.0253 - val_accuracy: 0.9740 - val_loss: 0.0993\n",
      "Listo!\n",
      "Evaluando modelo...\n",
      "\u001b[1m17/17\u001b[0m \u001b[32m━━━━━━━━━━━━━━━━━━━━\u001b[0m\u001b[37m\u001b[0m \u001b[1m0s\u001b[0m 11ms/step - accuracy: 0.9611 - loss: 0.1423\n",
      "Listo!\n"
     ]
    }
   ],
   "source": [
    "# Reestablecer los conjuntos de datos\n",
    "datos_entreno = tf.data.Dataset.from_tensor_slices((X_entreno, y_entreno))\n",
    "datos_validacion = tf.data.Dataset.from_tensor_slices((X_validacion, y_validacion))\n",
    "datos_prueba = tf.data.Dataset.from_tensor_slices((X_prueba, y_prueba))\n",
    "\n",
    "# Dividir en tandas los conjuntos de datos\n",
    "datos_entreno = datos_entreno.shuffle(buffer_size = num_obs_entreno).batch(TAMANIO_TANDA)  # Barajear datos de entrenamiento\n",
    "datos_validacion = datos_validacion.batch(TAMANIO_TANDA)\n",
    "datos_prueba = datos_prueba.batch(TAMANIO_TANDA)\n",
    "\n",
    "# Definimos la nueva estructura del modelo\n",
    "modelo = tf.keras.Sequential([\n",
    "    tf.keras.Input(shape=(28, 28)), # capas de entrada\n",
    "    tf.keras.layers.Flatten(),\n",
    "    tf.keras.layers.Dense(TAMANIO_CAPA_ESCONDIDA, activation='sigmoid'), # 1era capa escondida\n",
    "    tf.keras.layers.Dense(TAMANIO_CAPA_ESCONDIDA, activation='sigmoid'), # 2nda capa escondida\n",
    "    tf.keras.layers.Dense(tamanio_salida, activation='softmax') # capa salida\n",
    "])\n",
    "\n",
    "# Crear el optimizador con una mayor tasa de aprendizaje\n",
    "optimizador = Adam(learning_rate=TASA_APRENDIZAJE)\n",
    "\n",
    "# Compilamos el modelo utilizando la tasa de aprendizaje por defecto (0.001)\n",
    "modelo.compile(optimizer=optimizador, loss='sparse_categorical_crossentropy', metrics=['accuracy'])\n",
    "\n",
    "# Crear variable para almacenar los resultados\n",
    "results = []\n",
    "\n",
    "# Entrenar el modelo\n",
    "print(f\"Entrenando modelo...\")\n",
    "start = time.time()\n",
    "historia = modelo.fit(datos_entreno, epochs=NUMERO_EPOCAS, validation_data=datos_validacion, verbose=1)\n",
    "end = time.time()\n",
    "tiempo_entrenamiento = end - start\n",
    "print(\"Listo!\")\n",
    "\n",
    "# Obtener la pérdida\n",
    "print(\"Evaluando modelo...\")\n",
    "perdida_prueba, precision_prueba = modelo.evaluate(datos_prueba)\n",
    "\n",
    "# Obtener la precisión de prueba final\n",
    "precision_entrenamiento = historia.history['accuracy'][-1]\n",
    "\n",
    "# Obtener la precisión de validación final\n",
    "precision_validacion = historia.history['val_accuracy'][-1]\n",
    "\n",
    "# Guardar los resultados\n",
    "results.append({\n",
    "    \"Precisión de entrenamiento\": \"{:.2f}%\".format(precision_entrenamiento * 100),\n",
    "    \"Precisión de prueba\": \"{:.2f}%\".format(precision_prueba * 100),\n",
    "    \"Precisión de validación\": \"{:.2f}%\".format(precision_validacion * 100),\n",
    "    \"Tiempo de entrenamiento (s)\": \"{:.2f}\".format(tiempo_entrenamiento)\n",
    "})\n",
    "print(\"Listo!\")\n",
    "    "
   ]
  },
  {
   "cell_type": "code",
   "execution_count": 212,
   "metadata": {},
   "outputs": [
    {
     "data": {
      "text/html": [
       "<div>\n",
       "<style scoped>\n",
       "    .dataframe tbody tr th:only-of-type {\n",
       "        vertical-align: middle;\n",
       "    }\n",
       "\n",
       "    .dataframe tbody tr th {\n",
       "        vertical-align: top;\n",
       "    }\n",
       "\n",
       "    .dataframe thead th {\n",
       "        text-align: right;\n",
       "    }\n",
       "</style>\n",
       "<table border=\"1\" class=\"dataframe\">\n",
       "  <thead>\n",
       "    <tr style=\"text-align: right;\">\n",
       "      <th></th>\n",
       "      <th>Precisión de entrenamiento</th>\n",
       "      <th>Precisión de prueba</th>\n",
       "      <th>Precisión de validación</th>\n",
       "      <th>Tiempo de entrenamiento (s)</th>\n",
       "    </tr>\n",
       "  </thead>\n",
       "  <tbody>\n",
       "    <tr>\n",
       "      <th>0</th>\n",
       "      <td>99.15%</td>\n",
       "      <td>96.62%</td>\n",
       "      <td>97.40%</td>\n",
       "      <td>15.64</td>\n",
       "    </tr>\n",
       "  </tbody>\n",
       "</table>\n",
       "</div>"
      ],
      "text/plain": [
       "  Precisión de entrenamiento Precisión de prueba Precisión de validación  \\\n",
       "0                     99.15%              96.62%                  97.40%   \n",
       "\n",
       "  Tiempo de entrenamiento (s)  \n",
       "0                       15.64  "
      ]
     },
     "execution_count": 212,
     "metadata": {},
     "output_type": "execute_result"
    }
   ],
   "source": [
    "# Mostrar resultados como dataframe\n",
    "df = pd.DataFrame(results)\n",
    "df"
   ]
  }
 ],
 "metadata": {
  "kernelspec": {
   "display_name": "Python 3 (ipykernel)",
   "language": "python",
   "name": "python3"
  },
  "language_info": {
   "codemirror_mode": {
    "name": "ipython",
    "version": 3
   },
   "file_extension": ".py",
   "mimetype": "text/x-python",
   "name": "python",
   "nbconvert_exporter": "python",
   "pygments_lexer": "ipython3",
   "version": "3.12.3"
  }
 },
 "nbformat": 4,
 "nbformat_minor": 4
}
